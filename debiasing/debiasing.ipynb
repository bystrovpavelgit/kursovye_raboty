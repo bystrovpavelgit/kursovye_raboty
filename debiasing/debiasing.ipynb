{
  "nbformat": 4,
  "nbformat_minor": 0,
  "metadata": {
    "colab": {
      "name": "deb_report_metrics.ipynb",
      "provenance": [],
      "collapsed_sections": []
    },
    "kernelspec": {
      "name": "python3",
      "display_name": "Python 3"
    },
    "language_info": {
      "name": "python"
    },
    "accelerator": "GPU"
  },
  "cells": [
    {
      "cell_type": "code",
      "execution_count": 30,
      "metadata": {
        "colab": {
          "base_uri": "https://localhost:8080/"
        },
        "id": "xjnKW4f2_mOM",
        "outputId": "259156ce-81ce-4852-d357-0cbd2980d960"
      },
      "outputs": [
        {
          "output_type": "stream",
          "name": "stdout",
          "text": [
            "fatal: destination path 'debiasing_evaluation' already exists and is not an empty directory.\n",
            "fatal: destination path 'gp_debias' already exists and is not an empty directory.\n"
          ]
        }
      ],
      "source": [
        "################################################################\n",
        "## This notebook is reproducing results from https://github.com/kanekomasahiro/gp_debias\n",
        "## You should upload debiasing.ipynb into https://colab.research.google.com/ to run it\n",
        "################################################################\n",
        "!git clone https://github.com/pavelbystrov1/debiasing_evaluation\n",
        "!git clone https://github.com/kanekomasahiro/gp_debias"
      ]
    },
    {
      "cell_type": "code",
      "source": [
        "!cd ./gp_debias; mkdir d; cd d; git clone https://github.com/uclanlp/gn_glove.git\n",
        "!paste ./gp_debias/d/gn_glove/wordlist/female_word_file.txt ./gp_debias/d/gn_glove/wordlist/male_word_file.txt > ./gp_debias/wordlist/gender_pair.tsv \n",
        "!cp -r ./gp_debias/d/gn_glove/SemBias ./gp_debias/\n",
        "!ls ./gp_debias"
      ],
      "metadata": {
        "colab": {
          "base_uri": "https://localhost:8080/"
        },
        "id": "4lLx51jG_m0o",
        "outputId": "caf3b72f-4d87-4008-e701-42eb94f8baf3"
      },
      "execution_count": 3,
      "outputs": [
        {
          "output_type": "stream",
          "name": "stdout",
          "text": [
            "mkdir: cannot create directory ‘d’: File exists\n",
            "fatal: destination path 'gn_glove' already exists and is not an empty directory.\n",
            "d\t     eval_word_embeddings.py  LICENSE\t run.sh   src\n",
            "download.sh  hyperparams\t      README.md  SemBias  wordlist\n"
          ]
        }
      ]
    },
    {
      "cell_type": "code",
      "source": [
        "##############################################################################\n",
        "# Glove embedding trained on wikidump dataset can be downloaded using code below or manually - https://drive.google.com/open?id=1jrbQmpB5ZNH4w54yujeAvNFAfVEG0SuE\n",
        "# GN-Glove embedding trained on wikidump dataset can be downloaded using code below or manually - https://drive.google.com/file/d/1v82WF43w-lE-vpZd0JC1K8WYZQkTy_ii/\n",
        "##############################################################################\n",
        "!gdown --id '1jrbQmpB5ZNH4w54yujeAvNFAfVEG0SuE'\n",
        "!gdown --id '1v82WF43w-lE-vpZd0JC1K8WYZQkTy_ii'\n"
      ],
      "metadata": {
        "id": "J2WiDLsS_m3v",
        "colab": {
          "base_uri": "https://localhost:8080/"
        },
        "outputId": "c7558714-a489-4a49-ada2-41752c1c2d42"
      },
      "execution_count": 4,
      "outputs": [
        {
          "output_type": "stream",
          "name": "stdout",
          "text": [
            "/usr/local/lib/python3.7/dist-packages/gdown/cli.py:131: FutureWarning: Option `--id` was deprecated in version 4.3.1 and will be removed in 5.0. You don't need to pass it anymore to use a file ID.\n",
            "  category=FutureWarning,\n",
            "Downloading...\n",
            "From: https://drive.google.com/uc?id=1jrbQmpB5ZNH4w54yujeAvNFAfVEG0SuE\n",
            "To: /content/GloVe.zip\n",
            "100% 368M/368M [00:04<00:00, 83.7MB/s]\n",
            "/usr/local/lib/python3.7/dist-packages/gdown/cli.py:131: FutureWarning: Option `--id` was deprecated in version 4.3.1 and will be removed in 5.0. You don't need to pass it anymore to use a file ID.\n",
            "  category=FutureWarning,\n",
            "Downloading...\n",
            "From: https://drive.google.com/uc?id=1v82WF43w-lE-vpZd0JC1K8WYZQkTy_ii\n",
            "To: /content/GN-GloVe-L1-0.8-0.8.txt.zip\n",
            "100% 369M/369M [00:05<00:00, 73.4MB/s]\n"
          ]
        }
      ]
    },
    {
      "cell_type": "code",
      "source": [
        "##########################################\n",
        "# unzip GloVe embedding\n",
        "##########################################\n",
        "!cd gp_debias; mkdir -p src/glove_model\n",
        "!cp GloVe.zip ./gp_debias/src/glove_model/\n",
        "!cd gp_debias/src/glove_model; unzip GloVe.zip\n",
        "!cd gp_debias/src/glove_model; sed -i \"1s/^/322636 300\\n/\" vectors.txt\n",
        "!cd gp_debias/; mkdir embeddings\n",
        "!mv gp_debias/src/glove_model/vectors.txt gp_debias/embeddings/glove.txt\n",
        "!cd gp_debias; mkdir -p src/debiased_glove\n",
        "!ls gp_debias/embeddings/\n"
      ],
      "metadata": {
        "colab": {
          "base_uri": "https://localhost:8080/"
        },
        "id": "FxqUMNWz_m6e",
        "outputId": "e18e6127-33f9-4559-e9c0-500a2f9279ae"
      },
      "execution_count": 5,
      "outputs": [
        {
          "output_type": "stream",
          "name": "stdout",
          "text": [
            "Archive:  GloVe.zip\n",
            "  inflating: vectors.txt             \n",
            "glove.txt\n"
          ]
        }
      ]
    },
    {
      "cell_type": "code",
      "source": [
        "###########################################\n",
        "# create classifiers for glove\n",
        "###########################################\n",
        "!cd gp_debias; python src/train.py glove"
      ],
      "metadata": {
        "id": "fvd7xKIC_m9O",
        "colab": {
          "base_uri": "https://localhost:8080/"
        },
        "outputId": "895a2c85-eec1-478c-ef35-71f0b42b836f"
      },
      "execution_count": 6,
      "outputs": [
        {
          "output_type": "stream",
          "name": "stdout",
          "text": [
            "Loading word embedding\n",
            "Loading data\n",
            "Pre-training autoencoder\n",
            "/content/gp_debias/src/pre_train_autoencoder.py:19: UserWarning: Creating a tensor from a list of numpy.ndarrays is extremely slow. Please consider converting the list to a single numpy.ndarray with numpy.array() before converting to a tensor. (Triggered internally at  ../torch/csrc/utils/tensor_new.cpp:210.)\n",
            "  eval_inputs = torch.split(torch.FloatTensor(emb_list[:hp.pta_dev_num]), hp.pta_batch_size)\n",
            "src/train.py:426: UserWarning: The given NumPy array is not writable, and PyTorch does not support non-writable tensors. This means writing to this tensor will result in undefined behavior. You may want to copy the array to protect its data or make it writable before converting it to a tensor. This type of warning will be suppressed for the rest of this program. (Triggered internally at  ../torch/csrc/utils/tensor_numpy.cpp:178.)\n",
            "  train_female_embs = [encoder(torch.FloatTensor(emb[word[0]]).cuda()).data if hp.gpu >= 0 else encoder(torch.FloatTensor(emb[word[0]])).data for word in train_words['female & male']]\n",
            "Pre-training classifier\n",
            "Building female & male classifiers\n",
            "Setting optimizer\n",
            "Start training\n"
          ]
        }
      ]
    },
    {
      "cell_type": "code",
      "source": [
        "###########################################\n",
        "# save gp_glove embedding\n",
        "###########################################\n",
        "!cd gp_debias; python src/eval.py glove\n",
        "!ls gp_debias/src/debiased_glove"
      ],
      "metadata": {
        "id": "iijXvf-w_m_t",
        "colab": {
          "base_uri": "https://localhost:8080/"
        },
        "outputId": "fc61a43a-bcf4-4225-e44d-4a67d7cbfa78"
      },
      "execution_count": 8,
      "outputs": [
        {
          "output_type": "stream",
          "name": "stdout",
          "text": [
            "Generating emb...\n",
            "Start generating\n",
            "src/eval.py:95: UserWarning: The given NumPy array is not writable, and PyTorch does not support non-writable tensors. This means writing to this tensor will result in undefined behavior. You may want to copy the array to protect its data or make it writable before converting it to a tensor. This type of warning will be suppressed for the rest of this program. (Triggered internally at  ../torch/csrc/utils/tensor_numpy.cpp:178.)\n",
            "  inputs = torch.split(torch.stack([torch.FloatTensor(w2v[word]) for word in w2v.vocab.keys()]), 1024)\n",
            "SemBias\n",
            "definition: 0.8386363636363636\n",
            "stereotype: 0.08181818181818182\n",
            "none: 0.07954545454545454\n",
            "sub definition: 0.625\n",
            "sub stereotype: 0.15\n",
            "sub none: 0.225\n",
            "Saving emb...\n",
            "gender_debiased.bin  gender_debiased.txt\n"
          ]
        }
      ]
    },
    {
      "cell_type": "code",
      "source": [
        "#############################################################\n",
        "# creating folder for evaluation of generated word embeddings\n",
        "# and copy glove.txt and gp_glove.txt there\n",
        "#############################################################\n",
        "!cd ./debiasing_evaluation; mkdir glove\n",
        "!mv gp_debias/embeddings/glove.txt debiasing_evaluation/glove/glove.txt\n",
        "!mv gp_debias/src/debiased_glove/gender_debiased.txt debiasing_evaluation/glove/gp_glove.txt\n",
        "!mv gp_debias/src/debiased_glove/gender_debiased.bin debiasing_evaluation/glove/gp_glove.bin\n"
      ],
      "metadata": {
        "id": "zG7NHSMl_nCS"
      },
      "execution_count": 9,
      "outputs": []
    },
    {
      "cell_type": "code",
      "source": [
        "#######################################\n",
        "#      prepare data for GN-Glove\n",
        "#######################################\n",
        "!cd gp_debias; \n",
        "!cp /content/GN-GloVe-L1-0.8-0.8.txt.zip /content/gp_debias/src/glove_model/\n",
        "!cd gp_debias/src/glove_model; unzip \"GN-GloVe-L1-0.8-0.8.txt.zip\"\n",
        "!cd gp_debias/src/glove_model; sed -i \"1s/^/322636 300\\n/\" vectors300.txt\n",
        "!cp gp_debias/src/glove_model/vectors300.txt gp_debias/src/glove_model/glove.txt\n",
        "!mv gp_debias/src/glove_model/glove.txt gp_debias/embeddings/glove.txt\n",
        "!ls gp_debias/src/glove_model\n",
        "!cd gp_debias/src/debiased_glove; rm gender_debiased.txt gender_debiased.bin"
      ],
      "metadata": {
        "id": "yl4Dg97l_nEx",
        "colab": {
          "base_uri": "https://localhost:8080/"
        },
        "outputId": "0305dc2c-88c4-48e8-8d16-8bd5561a6d91"
      },
      "execution_count": 20,
      "outputs": [
        {
          "output_type": "stream",
          "name": "stdout",
          "text": [
            "best_model.pt  GloVe.zip  GN-GloVe-L1-0.8-0.8.txt.zip  __MACOSX  vectors300.txt\n",
            "rm: cannot remove 'gender_debiased.txt': No such file or directory\n",
            "rm: cannot remove 'gender_debiased.bin': No such file or directory\n"
          ]
        }
      ]
    },
    {
      "cell_type": "code",
      "source": [
        "###########################################\n",
        "# create classifiers for GN-glove and save gp_gn_glove embedding\n",
        "###########################################\n",
        "!cd gp_debias; python src/train.py glove\n",
        "!cd gp_debias; python src/eval.py glove\n",
        "!ls gp_debias/src/debiased_glove"
      ],
      "metadata": {
        "id": "bOkGiJEun0P8",
        "colab": {
          "base_uri": "https://localhost:8080/"
        },
        "outputId": "b3ee9098-94cc-4ef9-cd7d-f4590e2892e6"
      },
      "execution_count": 21,
      "outputs": [
        {
          "output_type": "stream",
          "name": "stdout",
          "text": [
            "Loading word embedding\n",
            "Loading data\n",
            "Pre-training autoencoder\n",
            "/content/gp_debias/src/pre_train_autoencoder.py:19: UserWarning: Creating a tensor from a list of numpy.ndarrays is extremely slow. Please consider converting the list to a single numpy.ndarray with numpy.array() before converting to a tensor. (Triggered internally at  ../torch/csrc/utils/tensor_new.cpp:210.)\n",
            "  eval_inputs = torch.split(torch.FloatTensor(emb_list[:hp.pta_dev_num]), hp.pta_batch_size)\n",
            "src/train.py:426: UserWarning: The given NumPy array is not writable, and PyTorch does not support non-writable tensors. This means writing to this tensor will result in undefined behavior. You may want to copy the array to protect its data or make it writable before converting it to a tensor. This type of warning will be suppressed for the rest of this program. (Triggered internally at  ../torch/csrc/utils/tensor_numpy.cpp:178.)\n",
            "  train_female_embs = [encoder(torch.FloatTensor(emb[word[0]]).cuda()).data if hp.gpu >= 0 else encoder(torch.FloatTensor(emb[word[0]])).data for word in train_words['female & male']]\n",
            "Pre-training classifier\n",
            "Building female & male classifiers\n",
            "Setting optimizer\n",
            "Start training\n",
            "Generating emb...\n",
            "Start generating\n",
            "src/eval.py:95: UserWarning: The given NumPy array is not writable, and PyTorch does not support non-writable tensors. This means writing to this tensor will result in undefined behavior. You may want to copy the array to protect its data or make it writable before converting it to a tensor. This type of warning will be suppressed for the rest of this program. (Triggered internally at  ../torch/csrc/utils/tensor_numpy.cpp:178.)\n",
            "  inputs = torch.split(torch.stack([torch.FloatTensor(w2v[word]) for word in w2v.vocab.keys()]), 1024)\n",
            "SemBias\n",
            "definition: 0.9795454545454545\n",
            "stereotype: 0.011363636363636364\n",
            "none: 0.00909090909090909\n",
            "sub definition: 0.8\n",
            "sub stereotype: 0.125\n",
            "sub none: 0.075\n",
            "Saving emb...\n",
            "gender_debiased.bin  gender_debiased.txt\n"
          ]
        }
      ]
    },
    {
      "cell_type": "code",
      "source": [
        "#############################################################\n",
        "# copy GN-glove and gp_gn_glove there\n",
        "#############################################################\n",
        "!mv gp_debias/embeddings/glove.txt debiasing_evaluation/glove/gn_glove.txt\n",
        "!mv gp_debias/src/debiased_glove/gender_debiased.txt debiasing_evaluation/glove/gp_gn_glove.txt\n",
        "!mv gp_debias/src/debiased_glove/gender_debiased.bin debiasing_evaluation/glove/gp_gn_glove.bin\n",
        "!ls debiasing_evaluation/glove/"
      ],
      "metadata": {
        "colab": {
          "base_uri": "https://localhost:8080/"
        },
        "id": "wNpMntKbn0Xm",
        "outputId": "9bb72953-c607-4248-f951-1806eefa4c96"
      },
      "execution_count": 23,
      "outputs": [
        {
          "output_type": "stream",
          "name": "stdout",
          "text": [
            "glove.txt     gp_glove.bin  gp_gn_glove.bin\n",
            "gn_glove.txt  gp_glove.txt  gp_gn_glove.txt\n"
          ]
        }
      ]
    },
    {
      "cell_type": "code",
      "source": [
        "###############################################################\n",
        "# load SimLex, datasets from Semantic-measure-assessment study and Google anthologies\n",
        "# and copy test dataset for evaluation\n",
        "###############################################################\n",
        "!wget https://fh295.github.io/SimLex-999.zip\n",
        "!git clone https://github.com/MohamedAliHadjTaieb/Semantic-measure-assessment-review-study\n",
        "!wget http://download.tensorflow.org/data/questions-words.txt\n",
        "!unzip SimLex-999.zip\n",
        "!mv questions-words.txt debiasing_evaluation/glove/google_anthology_ds.txt\n",
        "!mv SimLex-999/SimLex-999.txt debiasing_evaluation/glove/SimLex-999.txt\n",
        "!cp \"Semantic-measure-assessment-review-study/DataSets/English/Semantic Relatedness/MT771.csv\" debiasing_evaluation/glove/MTurk.csv\n",
        "!cp \"Semantic-measure-assessment-review-study/DataSets/English/Semantic Relatedness/RW2034.csv\" debiasing_evaluation/glove/\n",
        "!cp \"Semantic-measure-assessment-review-study/DataSets/English/Semantic Relatedness/WordSim353.csv\" debiasing_evaluation/glove/\n",
        "!cp \"Semantic-measure-assessment-review-study/DataSets/English/Semantic Similarity/RG65.csv\" debiasing_evaluation/glove/\n",
        "!cp \"Semantic-measure-assessment-review-study/DataSets/English/Semantic Similarity/MEN3000.csv\" debiasing_evaluation/glove/"
      ],
      "metadata": {
        "id": "VZJcByBtVmaS"
      },
      "execution_count": 32,
      "outputs": []
    },
    {
      "cell_type": "code",
      "source": [
        "############################################\n",
        "#            Preparation DONE\n",
        "############################################\n",
        "!ls debiasing_evaluation/glove/"
      ],
      "metadata": {
        "colab": {
          "base_uri": "https://localhost:8080/"
        },
        "id": "dkrhiDqvVk_o",
        "outputId": "2c057545-9d7b-481d-997e-4dba67d96cc1"
      },
      "execution_count": 34,
      "outputs": [
        {
          "output_type": "stream",
          "name": "stdout",
          "text": [
            "glove.txt\t\t gp_glove.txt\t  MTurk.csv\t  WordSim353.csv\n",
            "gn_glove.txt\t\t gp_gn_glove.bin  RG65.csv\n",
            "google_anthology_ds.txt  gp_gn_glove.txt  RW2034.csv\n",
            "gp_glove.bin\t\t MEN3000.csv\t  SimLex-999.txt\n"
          ]
        }
      ]
    }
  ]
}